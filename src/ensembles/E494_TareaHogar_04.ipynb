{
 "cells": [
  {
   "cell_type": "markdown",
   "metadata": {
    "id": "0cEmzeUKFkPh"
   },
   "source": [
    "# Tarea para el Hogar 04"
   ]
  },
  {
   "cell_type": "markdown",
   "metadata": {
    "id": "nSICPpyTGQmC"
   },
   "source": [
    "Esta Tarea para el Hogar 02 se entrega el final de la cuarta clase\n",
    "<br> se espera de usted que intente avanzar con los desafios propuestos y que los traiga terminados para la Clase 05 que será el miercoles 03 de septiembre"
   ]
  },
  {
   "cell_type": "markdown",
   "metadata": {
    "id": "DenyKXkiJ5JN"
   },
   "source": [
    "##  1. Cazatalentos"
   ]
  },
  {
   "cell_type": "markdown",
   "metadata": {
    "id": "l-K2_ZsZGrVD"
   },
   "source": [
    "En la Clase 03 nos hemos enfrentado a  \"La Maldicion del Ganandor\",  elegir el modelo con el mejor puntaje simple no suele ser la mejor estrategia.\n",
    "<br> Lea y ejecute el notebook  **src/CazaTalentos/CazaTalentos.ipynb**\n",
    "<br> en caso de interesarle, participe del Desafío Ordenamiento  que vence el sábado 06 de septiembre a las 19:00"
   ]
  },
  {
   "cell_type": "markdown",
   "metadata": {
    "id": "K9GkTOk5J9t3"
   },
   "source": [
    "## 2. Hiperparámetros del LightGBM"
   ]
  },
  {
   "cell_type": "markdown",
   "metadata": {
    "id": "VmEFy0ukKL5T"
   },
   "source": [
    "Los objetivos de esta tarea son:\n",
    "\n",
    "\n",
    "*   Aumentar la rentabilidad de la campaña de marketing de retención proactiva de clientes.\n",
    "*   Generar un mejor modelo optimizando sus hiperparámetros\n",
    "*   Conceptual : investigar los mas relevantes hiperparámetros de LightGBM\n",
    "*   Familiarizarse con la Bayesian Optimization, sus largos tiempos de corrida y opciones para reducirlos\n",
    "*   Familiarizarse con el uso de máquinas virtuales de Google Colab\n",
    "*   Ver un pipeline completo de optimización de hiperparámetros y puesta en producción"
   ]
  },
  {
   "cell_type": "markdown",
   "metadata": {
    "id": "5yvlS6JQLRMd"
   },
   "source": [
    "LightGBM cuenta con mas de 60 hiperparámetros, siendo posible utilizar 40 al mismo tiempo, aunque no razonable.\n",
    "<br> La documentación oficial de los hiperparámetros de LightGBM es  https://lightgbm.readthedocs.io/en/latest/Parameters.html#core-parameters\n"
   ]
  },
  {
   "cell_type": "markdown",
   "metadata": {
    "id": "eydI4YNAsFaf"
   },
   "source": [
    "Se lo alerta sobre que una Optimizacion Bayesiana lleva varias horas de corrida, y usted deberá correr VARIAS optimizaciones para descubrir cuales parámetros conviene optimizar.\n",
    "<br> A pesar que la próxima clase es recien en viernes 01 de agosto, inicie la tarea con tiempo, aprenda a planificar estratégicamente sus corridas como un@ científ@  de datos."
   ]
  },
  {
   "cell_type": "markdown",
   "metadata": {
    "id": "RzU4S0SeMcpp"
   },
   "source": [
    "Es necesario investigar cuales son los hiperparámetros de LightGBM que vale la pena optimizar en una Bayesian Optimization, ya que los realmente utiles son apenas un reducido subconjunto.\n",
    "<br>Usted deberá investigar cuales son los hiperparámetros mas relevantes de LightGBM, su primer alternativa es preguntándole a su amigo con capacidades especiales ChatGPT o sus endogámicos familiares Claude, DeepSeek, Gemini, Grok, etc\n",
    "<br> La segunda alternativa es la propia documentación de LightGBM  https://lightgbm.readthedocs.io/en/latest/Parameters-Tuning.html\n"
   ]
  },
  {
   "cell_type": "markdown",
   "metadata": {
    "id": "LNptUgI_NWWG"
   },
   "source": [
    "Adicionalmente podra buscar información como la que proveen esta diminuta muestra aleatoria de artículos ligeros:\n",
    "*  https://medium.com/@sarahzouinina/a-deep-dive-into-lightgbm-how-to-choose-and-tune-parameters-7c584945842e\n",
    "*  https://www.kaggle.com/code/somang1418/tuning-hyperparameters-under-10-minutes-lgbm\n",
    "*  https://towardsdatascience.com/beginners-guide-to-the-must-know-lightgbm-hyperparameters-a0005a812702/\n",
    "\n",
    "\n",
    "<br>  La muestra anterior se brinda a modo de ejemplo, usted deberá buscar muuuuchas  fuentes adicionales de información\n",
    "<br> Tenga presente que LightGBM es el estado del arte en modelado predictivo para datasets estructurado, que son el 90% del trabajo del 95% de los Data Scientists en Argentina."
   ]
  },
  {
   "cell_type": "markdown",
   "metadata": {
    "id": "WpUThBojODyK"
   },
   "source": [
    "El desafío de esta tarea es:\n",
    "* Qué hiperparparámetros conviene optimizar?  Las recomendaciones de los artículos ligeros es siempre sensata?  Sus autores realmente hicieron experimentos o son siemplemente escritores de entretenimiento carente de base científica?\n",
    "* Elegidos los hiperparámetros, cual es el  <desde, hasta> que se debe utilizar en la Bayesian Optimization ?\n",
    "* Realmente vale la pena optimizar 10 o 16 hiperparámetros al mismo tiempo ?  No resulta contraproducente una búsqueda en un espacio de tal alta dimensionalidad ?"
   ]
  },
  {
   "cell_type": "markdown",
   "metadata": {
    "id": "PX0qg_c0yqob"
   },
   "source": [
    "#### 2.1  Seteo del ambiente en Google Colab"
   ]
  },
  {
   "cell_type": "markdown",
   "metadata": {
    "id": "NGY7H9xza7Zr"
   },
   "source": [
    "Esta parte se debe correr con el runtime en Python3\n",
    "<br>Ir al menu, Runtime -> Change Runtime Type -> Runtime type ->  **Python 3**"
   ]
  },
  {
   "cell_type": "markdown",
   "metadata": {
    "id": "7PupIBNba7Zr"
   },
   "source": [
    "Conectar la virtual machine donde esta corriendo Google Colab con el  Google Drive, para poder tener persistencia de archivos"
   ]
  },
  {
   "cell_type": "code",
   "execution_count": null,
   "metadata": {
    "id": "9LpZCst5a7Zs"
   },
   "outputs": [],
   "source": [
    "# primero establecer el Runtime de Python 3\n",
    "from google.colab import drive\n",
    "drive.mount('/content/.drive')"
   ]
  },
  {
   "cell_type": "markdown",
   "metadata": {
    "id": "JYC_F-wla7Zs"
   },
   "source": [
    "Para correr la siguiente celda es fundamental en Arranque en Frio haber copiado el archivo kaggle.json al Google Drive, en la carpeta indicada en el instructivo\n",
    "\n",
    "<br>los siguientes comando estan en shell script de Linux\n",
    "*   Crear las carpetas en el Google Drive\n",
    "*   \"instalar\" el archivo kaggle.json desde el Google Drive a la virtual machine para que pueda ser utilizado por la libreria  kaggle de Python\n",
    "*   Bajar el  **dataset_pequeno**  al  Google Drive  y tambien al disco local de la virtual machine que esta corriendo Google Colab\n",
    "\n"
   ]
  },
  {
   "cell_type": "code",
   "execution_count": null,
   "metadata": {
    "id": "XWLelftXa7Zt"
   },
   "outputs": [],
   "source": [
    "%%shell\n",
    "\n",
    "mkdir -p \"/content/.drive/My Drive/dm\"\n",
    "mkdir -p \"/content/buckets\"\n",
    "ln -s \"/content/.drive/My Drive/dm\" /content/buckets/b1\n",
    "\n",
    "mkdir -p ~/.kaggle\n",
    "cp /content/buckets/b1/kaggle/kaggle.json  ~/.kaggle\n",
    "chmod 600 ~/.kaggle/kaggle.json\n",
    "\n",
    "\n",
    "mkdir -p /content/buckets/b1/exp\n",
    "mkdir -p /content/buckets/b1/datasets\n",
    "mkdir -p /content/datasets\n",
    "\n",
    "\n",
    "\n",
    "archivo_origen=\"https://storage.googleapis.com/open-courses/itba2025-8d0a/dataset_pequeno.csv\"\n",
    "archivo_destino=\"/content/datasets/dataset_pequeno.csv\"\n",
    "archivo_destino_bucket=\"/content/buckets/b1/datasets/dataset_pequeno.csv\"\n",
    "\n",
    "if ! test -f $archivo_destino_bucket; then\n",
    "  wget  $archivo_origen  -O $archivo_destino_bucket\n",
    "fi\n",
    "\n",
    "\n",
    "if ! test -f $archivo_destino; then\n",
    "  cp  $archivo_destino_bucket  $archivo_destino\n",
    "fi\n"
   ]
  },
  {
   "cell_type": "markdown",
   "metadata": {
    "id": "oSKhZRToy2F7"
   },
   "source": [
    "### 2.2 Optimizacion Hiperparámetros"
   ]
  },
  {
   "cell_type": "markdown",
   "metadata": {
    "id": "2kwPpHAtSmix"
   },
   "source": [
    "Esta parte se debe correr con el runtime en lenguaje R Ir al menu, Runtime -> Change Runtime Type -> Runtime type -> R"
   ]
  },
  {
   "cell_type": "markdown",
   "metadata": {
    "id": "xp4-Bj3aYI8d"
   },
   "source": [
    "### 2.2.1 Inicio"
   ]
  },
  {
   "cell_type": "markdown",
   "metadata": {
    "id": "zy8YTZfESxeJ"
   },
   "source": [
    "limpio el ambiente de R"
   ]
  },
  {
   "cell_type": "code",
   "execution_count": 1,
   "metadata": {
    "id": "gBq__iAdQliq"
   },
   "outputs": [
    {
     "data": {
      "text/html": [
       "'Wed Sep 03 00:40:52 2025'"
      ],
      "text/latex": [
       "'Wed Sep 03 00:40:52 2025'"
      ],
      "text/markdown": [
       "'Wed Sep 03 00:40:52 2025'"
      ],
      "text/plain": [
       "[1] \"Wed Sep 03 00:40:52 2025\""
      ]
     },
     "metadata": {},
     "output_type": "display_data"
    }
   ],
   "source": [
    "format(Sys.time(), \"%a %b %d %X %Y\")"
   ]
  },
  {
   "cell_type": "code",
   "execution_count": 2,
   "metadata": {
    "id": "7rdVrBojS1IV"
   },
   "outputs": [
    {
     "data": {
      "text/html": [
       "<table class=\"dataframe\">\n",
       "<caption>A matrix: 2 × 6 of type dbl</caption>\n",
       "<thead>\n",
       "\t<tr><th></th><th scope=col>used</th><th scope=col>(Mb)</th><th scope=col>gc trigger</th><th scope=col>(Mb)</th><th scope=col>max used</th><th scope=col>(Mb)</th></tr>\n",
       "</thead>\n",
       "<tbody>\n",
       "\t<tr><th scope=row>Ncells</th><td> 656930</td><td>35.1</td><td>1439371</td><td>76.9</td><td>1431349</td><td>76.5</td></tr>\n",
       "\t<tr><th scope=row>Vcells</th><td>1224871</td><td> 9.4</td><td>8388608</td><td>64.0</td><td>1924959</td><td>14.7</td></tr>\n",
       "</tbody>\n",
       "</table>\n"
      ],
      "text/latex": [
       "A matrix: 2 × 6 of type dbl\n",
       "\\begin{tabular}{r|llllll}\n",
       "  & used & (Mb) & gc trigger & (Mb) & max used & (Mb)\\\\\n",
       "\\hline\n",
       "\tNcells &  656930 & 35.1 & 1439371 & 76.9 & 1431349 & 76.5\\\\\n",
       "\tVcells & 1224871 &  9.4 & 8388608 & 64.0 & 1924959 & 14.7\\\\\n",
       "\\end{tabular}\n"
      ],
      "text/markdown": [
       "\n",
       "A matrix: 2 × 6 of type dbl\n",
       "\n",
       "| <!--/--> | used | (Mb) | gc trigger | (Mb) | max used | (Mb) |\n",
       "|---|---|---|---|---|---|---|\n",
       "| Ncells |  656930 | 35.1 | 1439371 | 76.9 | 1431349 | 76.5 |\n",
       "| Vcells | 1224871 |  9.4 | 8388608 | 64.0 | 1924959 | 14.7 |\n",
       "\n"
      ],
      "text/plain": [
       "       used    (Mb) gc trigger (Mb) max used (Mb)\n",
       "Ncells  656930 35.1 1439371    76.9 1431349  76.5\n",
       "Vcells 1224871  9.4 8388608    64.0 1924959  14.7"
      ]
     },
     "metadata": {},
     "output_type": "display_data"
    }
   ],
   "source": [
    "# limpio la memoria\n",
    "rm(list=ls(all.names=TRUE)) # remove all objects\n",
    "gc(full=TRUE, verbose=FALSE) # garbage collection"
   ]
  },
  {
   "cell_type": "markdown",
   "metadata": {
    "id": "kuPfQ7ksjwW3"
   },
   "source": [
    "### 2.2.2 Carga de Librerias"
   ]
  },
  {
   "cell_type": "code",
   "execution_count": 3,
   "metadata": {
    "id": "lVyxLaJ1j1J_"
   },
   "outputs": [
    {
     "name": "stderr",
     "output_type": "stream",
     "text": [
      "Loading required package: data.table\n",
      "\n",
      "Loading required package: parallel\n",
      "\n",
      "Loading required package: primes\n",
      "\n",
      "Loading required package: rlist\n",
      "\n",
      "Loading required package: yaml\n",
      "\n",
      "Loading required package: lightgbm\n",
      "\n",
      "Loading required package: DiceKriging\n",
      "\n",
      "Loading required package: mlrMBO\n",
      "\n",
      "Loading required package: mlr\n",
      "\n",
      "Loading required package: ParamHelpers\n",
      "\n",
      "Loading required package: smoof\n",
      "\n",
      "Loading required package: checkmate\n",
      "\n",
      "\n",
      "Attaching package: ‘checkmate’\n",
      "\n",
      "\n",
      "The following object is masked from ‘package:DiceKriging’:\n",
      "\n",
      "    checkNames\n",
      "\n",
      "\n"
     ]
    }
   ],
   "source": [
    "# cargo las librerias que necesito\n",
    "require(\"data.table\")\n",
    "require(\"parallel\")\n",
    "\n",
    "if( !require(\"primes\") ) install.packages(\"primes\")\n",
    "require(\"primes\")\n",
    "\n",
    "if( !require(\"utils\") ) install.packages(\"utils\")\n",
    "require(\"utils\")\n",
    "\n",
    "if( !require(\"rlist\") ) install.packages(\"rlist\")\n",
    "require(\"rlist\")\n",
    "\n",
    "if( !require(\"yaml\")) install.packages(\"yaml\")\n",
    "require(\"yaml\")\n",
    "\n",
    "if( !require(\"lightgbm\") ) install.packages(\"lightgbm\")\n",
    "require(\"lightgbm\")\n",
    "\n",
    "if( !require(\"DiceKriging\") ) install.packages(\"DiceKriging\")\n",
    "require(\"DiceKriging\")\n",
    "\n",
    "if( !require(\"mlrMBO\") ) install.packages(\"mlrMBO\")\n",
    "require(\"mlrMBO\")"
   ]
  },
  {
   "cell_type": "markdown",
   "metadata": {
    "id": "Iz-6Qt6BUaA3"
   },
   "source": [
    "### 2.2.3 Definicion de Parametros"
   ]
  },
  {
   "cell_type": "markdown",
   "metadata": {
    "id": "cOdlKd7lUm2I"
   },
   "source": [
    "aqui debe cargar SU semilla primigenia\n",
    "<br>recuerde cambiar el numero de experimento en cada corrida nueva"
   ]
  },
  {
   "cell_type": "code",
   "execution_count": 4,
   "metadata": {
    "id": "ASYkebOu2mF6"
   },
   "outputs": [],
   "source": [
    "PARAM <- list()\n",
    "PARAM$experimento <- 5005\n",
    "PARAM$semilla_primigenia <- 600019\n"
   ]
  },
  {
   "cell_type": "code",
   "execution_count": 5,
   "metadata": {
    "id": "ezOhQdbA293o"
   },
   "outputs": [],
   "source": [
    "PARAM$kaggle$competencia <- \"data-mining-analista-sr-2025-b\"\n",
    "PARAM$kaggle$cortes <- seq(10000, 12000, by= 500)"
   ]
  },
  {
   "cell_type": "code",
   "execution_count": 6,
   "metadata": {
    "id": "jtB0Lub42rHO"
   },
   "outputs": [],
   "source": [
    "# un undersampling de 0.1  toma solo el 10% de los CONTINUA\n",
    "# undersampling de 1.0  implica tomar TODOS los datos\n",
    "\n",
    "PARAM$trainingstrategy$undersampling <- 0.5"
   ]
  },
  {
   "cell_type": "code",
   "execution_count": 7,
   "metadata": {
    "id": "OFxm-xiNUOJX"
   },
   "outputs": [],
   "source": [
    "# Parametros LightGBM\n",
    "\n",
    "# ================================\n",
    "# LightGBM + Bayesian Optimization\n",
    "# Opción 2 (intermedia, 40 iteraciones)\n",
    "# ================================\n",
    "\n",
    "# Cross-validation folds e iteraciones\n",
    "PARAM$hyperparametertuning$xval_folds <- 5\n",
    "\n",
    "# ------------------------\n",
    "# Parámetros fijos\n",
    "# ------------------------\n",
    "PARAM$lgbm$param_fijos <- list(\n",
    "  boosting= \"gbdt\",\n",
    "  objective= \"binary\",\n",
    "  metric= \"auc\",\n",
    "  first_metric_only= FALSE,\n",
    "  boost_from_average= TRUE,\n",
    "  feature_pre_filter= FALSE,\n",
    "  force_row_wise= TRUE,\n",
    "  verbosity= -100,\n",
    "  seed= PARAM$semilla_primigenia,\n",
    "  max_depth= -1L,\n",
    "  min_gain_to_split= 0,\n",
    "  min_sum_hessian_in_leaf= 0.001,\n",
    "  lambda_l1= 0.0,\n",
    "  lambda_l2= 0.0,\n",
    "  max_bin= 31L,\n",
    "  bagging_fraction= 1.0,\n",
    "  pos_bagging_fraction= 1.0,\n",
    "  neg_bagging_fraction= 1.0,\n",
    "  is_unbalance= FALSE,\n",
    "  scale_pos_weight= 1.0,\n",
    "  drop_rate= 0.1,\n",
    "  max_drop= 50,\n",
    "  skip_drop= 0.5,\n",
    "  extra_trees= FALSE,\n",
    "  num_iterations= 1200,\n",
    "  learning_rate= 0.02,\n",
    "  feature_fraction= 0.5,\n",
    "  num_leaves= 750,\n",
    "  min_data_in_leaf= 5000\n",
    ")\n"
   ]
  },
  {
   "cell_type": "markdown",
   "metadata": {
    "id": "D5Yj-JV4yvOt"
   },
   "source": [
    "Aqui se definen los hiperparámetros de LightGBM que participan de la Bayesian Optimization\n",
    "<br> si es un numero entero debe ir  makeIntegerParam\n",
    "<br> si es un numero real (con decimales) debe ir  makeNumericParam\n",
    "<br> es muy importante leer cuales son un lower y upper  permitidos y ademas razonables"
   ]
  },
  {
   "cell_type": "code",
   "execution_count": 8,
   "metadata": {
    "id": "jENpR26ZyuS8"
   },
   "outputs": [],
   "source": [
    "# Aqui se cargan los bordes de los hiperparametros de la BO\n",
    "\n",
    "PARAM$hypeparametertuning$hs <- makeParamSet(\n",
    "  makeIntegerParam(\"num_leaves\",       lower = 64,   upper = 2048),\n",
    "  makeIntegerParam(\"max_depth\",        lower = 3,    upper = 15),\n",
    "  makeIntegerParam(\"min_data_in_leaf\", lower = 200,  upper = 10000),\n",
    "  makeNumericParam(\"feature_fraction\", lower = 0.2,  upper = 1.0),\n",
    "  makeNumericParam(\"bagging_fraction\", lower = 0.2,  upper = 1.0),\n",
    "  makeNumericParam(\"learning_rate\",    lower = 0.005, upper = 0.1)\n",
    ")"
   ]
  },
  {
   "cell_type": "markdown",
   "metadata": {
    "id": "-_RPFUb3zMoW"
   },
   "source": [
    "A mayor cantidad de hiperparámetros, se debe aumentar las iteraciones de la Bayesian Optimization\n",
    "<br> 30 es un valor muy tacaño, pero corre rápido\n",
    "<br> deberia partir de 50, alcanzando los 100 si se dispone de tiempo"
   ]
  },
  {
   "cell_type": "code",
   "execution_count": 9,
   "metadata": {
    "id": "q5Rd3pnbzSiG"
   },
   "outputs": [],
   "source": [
    "PARAM$hyperparametertuning$iteraciones <- 60 # iteraciones bayesianas"
   ]
  },
  {
   "cell_type": "markdown",
   "metadata": {
    "id": "4RWZXL1VZjMI"
   },
   "source": [
    "### 2.2.4  Preprocesamiento"
   ]
  },
  {
   "cell_type": "code",
   "execution_count": 10,
   "metadata": {
    "id": "j3toG9-lZm4K"
   },
   "outputs": [],
   "source": [
    "# carpeta de trabajo\n",
    "\n",
    "setwd(\"/content/buckets/b1/exp\")\n",
    "experimento_folder <- paste0(\"HT\", PARAM$experimento)\n",
    "dir.create(experimento_folder, showWarnings=FALSE)\n",
    "setwd( paste0(\"/content/buckets/b1/exp/\", experimento_folder ))"
   ]
  },
  {
   "cell_type": "code",
   "execution_count": 11,
   "metadata": {
    "id": "FM3lxKoLZ643"
   },
   "outputs": [],
   "source": [
    "# lectura del dataset\n",
    "\n",
    "dataset <- fread(\"/content/datasets/dataset_pequeno.csv\")"
   ]
  },
  {
   "cell_type": "code",
   "execution_count": 12,
   "metadata": {
    "id": "OsJ-91UeZ-I_"
   },
   "outputs": [],
   "source": [
    "dataset_train <- dataset[foto_mes %in% c(202107)]"
   ]
  },
  {
   "cell_type": "code",
   "execution_count": 13,
   "metadata": {
    "id": "vrWE7BE0aB2J"
   },
   "outputs": [],
   "source": [
    "# paso la clase a binaria que tome valores {0,1}  enteros\n",
    "#  BAJA+1 y BAJA+2  son  1,   CONTINUA es 0\n",
    "\n",
    "dataset_train[,\n",
    "  clase01 := ifelse(clase_ternaria %in% c(\"BAJA+2\",\"BAJA+1\"), 1L, 0L)\n",
    "]"
   ]
  },
  {
   "cell_type": "code",
   "execution_count": 14,
   "metadata": {
    "id": "jP7YlQBnaW6W"
   },
   "outputs": [],
   "source": [
    "# defino los datos que forma parte del training\n",
    "# aqui se hace el undersampling de los CONTINUA\n",
    "# notar que para esto utilizo la SEGUNDA semilla\n",
    "\n",
    "set.seed(PARAM$semilla_primigenia, kind = \"L'Ecuyer-CMRG\")\n",
    "dataset_train[, azar := runif(nrow(dataset_train))]\n",
    "dataset_train[, training := 0L]\n",
    "\n",
    "dataset_train[\n",
    "  foto_mes %in% c(202107) &\n",
    "    (azar <= PARAM$trainingstrategy$undersampling | clase_ternaria %in% c(\"BAJA+1\", \"BAJA+2\")),\n",
    "  training := 1L\n",
    "]"
   ]
  },
  {
   "cell_type": "code",
   "execution_count": 15,
   "metadata": {
    "id": "xElu4s5W4rX7"
   },
   "outputs": [],
   "source": [
    "# los campos que se van a utilizar\n",
    "\n",
    "campos_buenos <- setdiff(\n",
    "  colnames(dataset_train),\n",
    "  c(\"clase_ternaria\", \"clase01\", \"azar\", \"training\")\n",
    ")"
   ]
  },
  {
   "cell_type": "code",
   "execution_count": 16,
   "metadata": {
    "id": "PppMHcGYaaol"
   },
   "outputs": [
    {
     "data": {
      "text/html": [
       "83587"
      ],
      "text/latex": [
       "83587"
      ],
      "text/markdown": [
       "83587"
      ],
      "text/plain": [
       "[1] 83587"
      ]
     },
     "metadata": {},
     "output_type": "display_data"
    },
    {
     "data": {
      "text/html": [
       "154"
      ],
      "text/latex": [
       "154"
      ],
      "text/markdown": [
       "154"
      ],
      "text/plain": [
       "[1] 154"
      ]
     },
     "metadata": {},
     "output_type": "display_data"
    }
   ],
   "source": [
    "# dejo los datos en el formato que necesita LightGBM\n",
    "\n",
    "dtrain <- lgb.Dataset(\n",
    "  data= data.matrix(dataset_train[training == 1L, campos_buenos, with= FALSE]),\n",
    "  label= dataset_train[training == 1L, clase01],\n",
    "  free_raw_data= FALSE\n",
    ")\n",
    "\n",
    "nrow(dtrain)\n",
    "ncol(dtrain)"
   ]
  },
  {
   "cell_type": "markdown",
   "metadata": {
    "id": "Ta-EkOu3cphF"
   },
   "source": [
    "2.2.5 Configuracion Bayesian Optimization"
   ]
  },
  {
   "cell_type": "code",
   "execution_count": 17,
   "metadata": {
    "id": "cjgfurjdfiXb"
   },
   "outputs": [],
   "source": [
    "# En el argumento x llegan los parmaetros de la bayesiana\n",
    "#  devuelve la AUC en cross validation del modelo entrenado\n",
    "\n",
    "EstimarGanancia_AUC_lightgbm <- function(x) {\n",
    "\n",
    "  # x pisa (o agrega) a param_fijos\n",
    "  param_completo <- modifyList(PARAM$lgbm$param_fijos, x)\n",
    "\n",
    "  # entreno LightGBM\n",
    "  modelocv <- lgb.cv(\n",
    "    data= dtrain,\n",
    "    nfold= PARAM$hyperparametertuning$xval_folds,\n",
    "    stratified= TRUE,\n",
    "    param= param_completo\n",
    "  )\n",
    "\n",
    "  # obtengo la ganancia\n",
    "  AUC <- modelocv$best_score\n",
    "\n",
    "  # hago espacio en la memoria\n",
    "  rm(modelocv)\n",
    "  gc(full= TRUE, verbose= FALSE)\n",
    "\n",
    "  message(format(Sys.time(), \"%a %b %d %X %Y\"), \" AUC \", AUC)\n",
    "\n",
    "  return(AUC)\n",
    "}"
   ]
  },
  {
   "cell_type": "code",
   "execution_count": 18,
   "metadata": {
    "id": "WLi_o1hocvN-"
   },
   "outputs": [],
   "source": [
    "# Aqui comienza la configuracion de la Bayesian Optimization\n",
    "\n",
    "# en este archivo quedan la evolucion binaria de la BO\n",
    "kbayesiana <- \"bayesiana.RDATA\"\n",
    "\n",
    "funcion_optimizar <- EstimarGanancia_AUC_lightgbm # la funcion que voy a maximizar\n",
    "\n",
    "configureMlr(show.learner.output= FALSE)\n",
    "\n",
    "# configuro la busqueda bayesiana,  los hiperparametros que se van a optimizar\n",
    "# por favor, no desesperarse por lo complejo\n",
    "\n",
    "obj.fun <- makeSingleObjectiveFunction(\n",
    "  fn= funcion_optimizar, # la funcion que voy a maximizar\n",
    "  minimize= FALSE, # estoy Maximizando la ganancia\n",
    "  noisy= TRUE,\n",
    "  par.set= PARAM$hypeparametertuning$hs, # definido al comienzo del programa\n",
    "  has.simple.signature= FALSE # paso los parametros en una lista\n",
    ")\n",
    "\n",
    "# cada 600 segundos guardo el resultado intermedio\n",
    "ctrl <- makeMBOControl(\n",
    "  save.on.disk.at.time= 600, # se graba cada 600 segundos\n",
    "  save.file.path= kbayesiana\n",
    ") # se graba cada 600 segundos\n",
    "\n",
    "# indico la cantidad de iteraciones que va a tener la Bayesian Optimization\n",
    "ctrl <- setMBOControlTermination(\n",
    "  ctrl,\n",
    "  iters= PARAM$hyperparametertuning$iteraciones\n",
    ") # cantidad de iteraciones\n",
    "\n",
    "# defino el método estandar para la creacion de los puntos iniciales,\n",
    "# los \"No Inteligentes\"\n",
    "ctrl <- setMBOControlInfill(ctrl, crit= makeMBOInfillCritEI())\n",
    "\n",
    "# establezco la funcion que busca el maximo\n",
    "surr.km <- makeLearner(\n",
    "  \"regr.km\",\n",
    "  predict.type= \"se\",\n",
    "  covtype= \"matern3_2\",\n",
    "  control= list(trace= TRUE)\n",
    ")\n"
   ]
  },
  {
   "cell_type": "markdown",
   "metadata": {
    "id": "_uUeVo5pc4zc"
   },
   "source": [
    "2.2.6 Corrida Bayesian Optimization"
   ]
  },
  {
   "cell_type": "code",
   "execution_count": 19,
   "metadata": {
    "id": "RcABNaKGciaz"
   },
   "outputs": [
    {
     "name": "stderr",
     "output_type": "stream",
     "text": [
      "Computing y column(s) for design. Not provided.\n",
      "\n",
      "Wed Sep 03 00:41:40 2025 AUC 0.926948824960329\n",
      "\n",
      "Wed Sep 03 00:42:39 2025 AUC 0.926504643141744\n",
      "\n",
      "Wed Sep 03 00:43:10 2025 AUC 0.924724546234666\n",
      "\n",
      "Wed Sep 03 00:44:05 2025 AUC 0.925341248510744\n",
      "\n",
      "Wed Sep 03 00:44:36 2025 AUC 0.925755617398199\n",
      "\n",
      "Wed Sep 03 00:45:08 2025 AUC 0.926524226028771\n",
      "\n",
      "Wed Sep 03 00:46:04 2025 AUC 0.92659032130197\n",
      "\n",
      "Wed Sep 03 00:47:08 2025 AUC 0.927736980326913\n",
      "\n",
      "Wed Sep 03 00:47:48 2025 AUC 0.92565373454641\n",
      "\n",
      "Wed Sep 03 00:48:16 2025 AUC 0.924619040048955\n",
      "\n",
      "Wed Sep 03 00:49:10 2025 AUC 0.924661798502073\n",
      "\n",
      "Wed Sep 03 00:49:50 2025 AUC 0.926645736088192\n",
      "\n",
      "Wed Sep 03 00:50:42 2025 AUC 0.927146541340337\n",
      "\n",
      "Wed Sep 03 00:51:09 2025 AUC 0.924675851655088\n",
      "\n",
      "Wed Sep 03 00:51:33 2025 AUC 0.925378738685531\n",
      "\n",
      "Wed Sep 03 00:52:33 2025 AUC 0.929098776922079\n",
      "\n",
      "Wed Sep 03 00:53:26 2025 AUC 0.92487899919622\n",
      "\n",
      "Wed Sep 03 00:54:11 2025 AUC 0.924919973211783\n",
      "\n",
      "Wed Sep 03 00:55:08 2025 AUC 0.927931579325175\n",
      "\n",
      "Wed Sep 03 00:55:34 2025 AUC 0.923274483806027\n",
      "\n",
      "Wed Sep 03 00:56:05 2025 AUC 0.922585405794279\n",
      "\n",
      "Wed Sep 03 00:56:51 2025 AUC 0.92833404628524\n",
      "\n",
      "Wed Sep 03 00:57:43 2025 AUC 0.928641067735802\n",
      "\n",
      "Wed Sep 03 00:58:25 2025 AUC 0.92407570850966\n",
      "\n",
      "[mbo] 0: num_leaves=348; max_depth=14; min_data_in_leaf=3421; feature_fraction=0.892; bagging_fraction=0.56; learning_rate=0.0504 : y = 0.927 : 41.3 secs : initdesign\n",
      "\n",
      "[mbo] 0: num_leaves=1202; max_depth=7; min_data_in_leaf=2506; feature_fraction=0.289; bagging_fraction=0.337; learning_rate=0.0623 : y = 0.927 : 59.1 secs : initdesign\n",
      "\n",
      "[mbo] 0: num_leaves=891; max_depth=12; min_data_in_leaf=8415; feature_fraction=0.67; bagging_fraction=0.71; learning_rate=0.0397 : y = 0.925 : 31.1 secs : initdesign\n",
      "\n",
      "[mbo] 0: num_leaves=1733; max_depth=10; min_data_in_leaf=6989; feature_fraction=0.326; bagging_fraction=0.371; learning_rate=0.0308 : y = 0.925 : 54.3 secs : initdesign\n",
      "\n",
      "[mbo] 0: num_leaves=1043; max_depth=12; min_data_in_leaf=6609; feature_fraction=0.655; bagging_fraction=0.269; learning_rate=0.0724 : y = 0.926 : 31.7 secs : initdesign\n",
      "\n",
      "[mbo] 0: num_leaves=400; max_depth=11; min_data_in_leaf=5156; feature_fraction=0.792; bagging_fraction=0.827; learning_rate=0.0833 : y = 0.927 : 31.2 secs : initdesign\n",
      "\n",
      "[mbo] 0: num_leaves=519; max_depth=8; min_data_in_leaf=4411; feature_fraction=0.47; bagging_fraction=0.319; learning_rate=0.0856 : y = 0.927 : 56.7 secs : initdesign\n",
      "\n",
      "[mbo] 0: num_leaves=1278; max_depth=9; min_data_in_leaf=1626; feature_fraction=0.454; bagging_fraction=0.664; learning_rate=0.0713 : y = 0.928 : 63.9 secs : initdesign\n",
      "\n",
      "[mbo] 0: num_leaves=691; max_depth=14; min_data_in_leaf=2705; feature_fraction=0.766; bagging_fraction=0.434; learning_rate=0.0672 : y = 0.926 : 39.7 secs : initdesign\n",
      "\n",
      "[mbo] 0: num_leaves=1386; max_depth=5; min_data_in_leaf=7317; feature_fraction=0.839; bagging_fraction=0.213; learning_rate=0.0217 : y = 0.925 : 27.7 secs : initdesign\n",
      "\n",
      "[mbo] 0: num_leaves=1106; max_depth=4; min_data_in_leaf=9402; feature_fraction=0.42; bagging_fraction=0.53; learning_rate=0.0252 : y = 0.925 : 54.1 secs : initdesign\n",
      "\n",
      "[mbo] 0: num_leaves=1974; max_depth=6; min_data_in_leaf=3728; feature_fraction=0.608; bagging_fraction=0.886; learning_rate=0.0534 : y = 0.927 : 40.4 secs : initdesign\n",
      "\n",
      "[mbo] 0: num_leaves=629; max_depth=11; min_data_in_leaf=3930; feature_fraction=0.563; bagging_fraction=0.968; learning_rate=0.02 : y = 0.927 : 51.7 secs : initdesign\n",
      "\n",
      "[mbo] 0: num_leaves=1808; max_depth=5; min_data_in_leaf=8845; feature_fraction=0.832; bagging_fraction=0.617; learning_rate=0.0594 : y = 0.925 : 27.3 secs : initdesign\n",
      "\n",
      "[mbo] 0: num_leaves=1590; max_depth=3; min_data_in_leaf=5079; feature_fraction=0.958; bagging_fraction=0.932; learning_rate=0.0916 : y = 0.925 : 24.1 secs : initdesign\n",
      "\n",
      "[mbo] 0: num_leaves=170; max_depth=7; min_data_in_leaf=599; feature_fraction=0.398; bagging_fraction=0.798; learning_rate=0.0923 : y = 0.929 : 59.9 secs : initdesign\n",
      "\n",
      "[mbo] 0: num_leaves=855; max_depth=4; min_data_in_leaf=8024; feature_fraction=0.52; bagging_fraction=0.955; learning_rate=0.0765 : y = 0.925 : 52.8 secs : initdesign\n",
      "\n",
      "[mbo] 0: num_leaves=771; max_depth=10; min_data_in_leaf=5640; feature_fraction=0.203; bagging_fraction=0.473; learning_rate=0.0464 : y = 0.925 : 45.1 secs : initdesign\n",
      "\n",
      "[mbo] 0: num_leaves=1885; max_depth=15; min_data_in_leaf=2241; feature_fraction=0.263; bagging_fraction=0.764; learning_rate=0.0364 : y = 0.928 : 57.0 secs : initdesign\n",
      "\n",
      "[mbo] 0: num_leaves=78; max_depth=7; min_data_in_leaf=9926; feature_fraction=0.711; bagging_fraction=0.428; learning_rate=0.0155 : y = 0.923 : 25.5 secs : initdesign\n",
      "\n",
      "[mbo] 0: num_leaves=1703; max_depth=15; min_data_in_leaf=6216; feature_fraction=0.988; bagging_fraction=0.85; learning_rate=0.00604 : y = 0.923 : 31.0 secs : initdesign\n",
      "\n",
      "[mbo] 0: num_leaves=1466; max_depth=9; min_data_in_leaf=1194; feature_fraction=0.923; bagging_fraction=0.262; learning_rate=0.0421 : y = 0.928 : 45.9 secs : initdesign\n",
      "\n",
      "[mbo] 0: num_leaves=266; max_depth=4; min_data_in_leaf=1011; feature_fraction=0.364; bagging_fraction=0.682; learning_rate=0.0113 : y = 0.929 : 52.2 secs : initdesign\n",
      "\n",
      "[mbo] 0: num_leaves=1543; max_depth=13; min_data_in_leaf=7923; feature_fraction=0.587; bagging_fraction=0.581; learning_rate=0.0995 : y = 0.924 : 42.7 secs : initdesign\n",
      "\n",
      "Saved the current state after iteration 1 in the file bayesiana.RDATA.\n",
      "\n",
      "Wed Sep 03 00:59:40 2025 AUC 0.928400703481887\n",
      "\n",
      "[mbo] 1: num_leaves=71; max_depth=10; min_data_in_leaf=1030; feature_fraction=0.485; bagging_fraction=0.82; learning_rate=0.0313 : y = 0.928 : 68.7 secs : infill_ei\n",
      "\n",
      "Wed Sep 03 01:00:23 2025 AUC 0.92723287157097\n",
      "\n",
      "[mbo] 2: num_leaves=215; max_depth=3; min_data_in_leaf=1945; feature_fraction=0.211; bagging_fraction=0.778; learning_rate=0.0945 : y = 0.927 : 42.7 secs : infill_ei\n",
      "\n",
      "Wed Sep 03 01:01:21 2025 AUC 0.929709452864642\n",
      "\n",
      "[mbo] 3: num_leaves=1462; max_depth=6; min_data_in_leaf=596; feature_fraction=0.315; bagging_fraction=0.652; learning_rate=0.0501 : y = 0.93 : 56.4 secs : infill_ei\n",
      "\n",
      "Wed Sep 03 01:02:19 2025 AUC 0.929676052864797\n",
      "\n",
      "[mbo] 4: num_leaves=2022; max_depth=6; min_data_in_leaf=367; feature_fraction=0.321; bagging_fraction=0.834; learning_rate=0.0322 : y = 0.93 : 57.6 secs : infill_ei\n",
      "\n",
      "Wed Sep 03 01:03:19 2025 AUC 0.929585429140205\n",
      "\n",
      "[mbo] 5: num_leaves=2007; max_depth=8; min_data_in_leaf=373; feature_fraction=0.2; bagging_fraction=0.356; learning_rate=0.0357 : y = 0.93 : 59.4 secs : infill_ei\n",
      "\n",
      "Wed Sep 03 01:03:57 2025 AUC 0.930005162659801\n",
      "\n",
      "[mbo] 6: num_leaves=1552; max_depth=4; min_data_in_leaf=304; feature_fraction=0.598; bagging_fraction=0.536; learning_rate=0.0464 : y = 0.93 : 37.2 secs : infill_ei\n",
      "\n",
      "Wed Sep 03 01:04:51 2025 AUC 0.929576269690543\n",
      "\n",
      "[mbo] 7: num_leaves=1673; max_depth=5; min_data_in_leaf=201; feature_fraction=0.3; bagging_fraction=0.773; learning_rate=0.0211 : y = 0.93 : 53.1 secs : infill_ei\n",
      "\n",
      "Wed Sep 03 01:05:15 2025 AUC 0.929382328722995\n",
      "\n",
      "[mbo] 8: num_leaves=1836; max_depth=3; min_data_in_leaf=201; feature_fraction=0.655; bagging_fraction=0.657; learning_rate=0.0908 : y = 0.929 : 23.8 secs : infill_ei\n",
      "\n",
      "Wed Sep 03 01:05:58 2025 AUC 0.929714354327588\n",
      "\n",
      "[mbo] 9: num_leaves=1697; max_depth=7; min_data_in_leaf=413; feature_fraction=0.734; bagging_fraction=0.544; learning_rate=0.0193 : y = 0.93 : 41.9 secs : infill_ei\n",
      "\n",
      "Wed Sep 03 01:06:49 2025 AUC 0.928571915893587\n",
      "\n",
      "[mbo] 10: num_leaves=1480; max_depth=3; min_data_in_leaf=406; feature_fraction=0.513; bagging_fraction=0.374; learning_rate=0.0386 : y = 0.929 : 50.2 secs : infill_ei\n",
      "\n",
      "Wed Sep 03 01:07:55 2025 AUC 0.928321848961534\n",
      "\n",
      "[mbo] 11: num_leaves=2019; max_depth=9; min_data_in_leaf=271; feature_fraction=0.225; bagging_fraction=0.541; learning_rate=0.0522 : y = 0.928 : 65.6 secs : infill_ei\n",
      "\n",
      "Wed Sep 03 01:08:28 2025 AUC 0.929229512884043\n",
      "\n",
      "[mbo] 12: num_leaves=1889; max_depth=5; min_data_in_leaf=319; feature_fraction=0.746; bagging_fraction=0.574; learning_rate=0.0551 : y = 0.929 : 32.1 secs : infill_ei\n",
      "\n",
      "Wed Sep 03 01:08:59 2025 AUC 0.929270893540441\n",
      "\n",
      "[mbo] 13: num_leaves=1491; max_depth=4; min_data_in_leaf=203; feature_fraction=0.626; bagging_fraction=0.623; learning_rate=0.0219 : y = 0.929 : 30.4 secs : infill_ei\n",
      "\n",
      "Saved the current state after iteration 14 in the file bayesiana.RDATA.\n",
      "\n",
      "Wed Sep 03 01:09:49 2025 AUC 0.929963577577377\n",
      "\n",
      "[mbo] 14: num_leaves=1373; max_depth=5; min_data_in_leaf=201; feature_fraction=0.596; bagging_fraction=0.78; learning_rate=0.0465 : y = 0.93 : 42.6 secs : infill_ei\n",
      "\n",
      "Wed Sep 03 01:10:57 2025 AUC 0.930402151314617\n",
      "\n",
      "[mbo] 15: num_leaves=1651; max_depth=7; min_data_in_leaf=200; feature_fraction=0.421; bagging_fraction=0.601; learning_rate=0.034 : y = 0.93 : 67.2 secs : infill_ei\n",
      "\n",
      "Wed Sep 03 01:11:38 2025 AUC 0.929800344287862\n",
      "\n",
      "[mbo] 16: num_leaves=1626; max_depth=6; min_data_in_leaf=495; feature_fraction=0.62; bagging_fraction=0.798; learning_rate=0.0389 : y = 0.93 : 40.5 secs : infill_ei\n",
      "\n",
      "Wed Sep 03 01:12:45 2025 AUC 0.930823169782032\n",
      "\n",
      "[mbo] 17: num_leaves=1553; max_depth=8; min_data_in_leaf=204; feature_fraction=0.302; bagging_fraction=0.584; learning_rate=0.0267 : y = 0.931 : 66.0 secs : infill_ei\n",
      "\n",
      "Wed Sep 03 01:13:53 2025 AUC 0.928713911294551\n",
      "\n",
      "[mbo] 18: num_leaves=1384; max_depth=9; min_data_in_leaf=200; feature_fraction=0.201; bagging_fraction=0.651; learning_rate=0.0219 : y = 0.929 : 67.9 secs : infill_ei\n",
      "\n",
      "Wed Sep 03 01:15:09 2025 AUC 0.930821057619552\n",
      "\n",
      "[mbo] 19: num_leaves=1624; max_depth=8; min_data_in_leaf=200; feature_fraction=0.488; bagging_fraction=0.743; learning_rate=0.0166 : y = 0.931 : 75.0 secs : infill_ei\n",
      "\n",
      "Wed Sep 03 01:16:23 2025 AUC 0.929861505269878\n",
      "\n",
      "[mbo] 20: num_leaves=1106; max_depth=8; min_data_in_leaf=200; feature_fraction=0.454; bagging_fraction=0.764; learning_rate=0.0351 : y = 0.93 : 73.4 secs : infill_ei\n",
      "\n",
      "Wed Sep 03 01:17:17 2025 AUC 0.928068438882747\n",
      "\n",
      "[mbo] 21: num_leaves=1550; max_depth=4; min_data_in_leaf=203; feature_fraction=0.385; bagging_fraction=0.989; learning_rate=0.0917 : y = 0.928 : 53.1 secs : infill_ei\n",
      "\n",
      "Wed Sep 03 01:18:29 2025 AUC 0.93006349244418\n",
      "\n",
      "[mbo] 22: num_leaves=1810; max_depth=8; min_data_in_leaf=293; feature_fraction=0.35; bagging_fraction=0.428; learning_rate=0.00679 : y = 0.93 : 71.2 secs : infill_ei\n",
      "\n",
      "Wed Sep 03 01:19:38 2025 AUC 0.930677883703435\n",
      "\n",
      "[mbo] 23: num_leaves=1788; max_depth=8; min_data_in_leaf=438; feature_fraction=0.393; bagging_fraction=0.667; learning_rate=0.0174 : y = 0.931 : 68.0 secs : infill_ei\n",
      "\n",
      "Saved the current state after iteration 24 in the file bayesiana.RDATA.\n",
      "\n",
      "Wed Sep 03 01:20:55 2025 AUC 0.930208187888935\n",
      "\n",
      "[mbo] 24: num_leaves=1781; max_depth=8; min_data_in_leaf=200; feature_fraction=0.55; bagging_fraction=0.56; learning_rate=0.0229 : y = 0.93 : 72.7 secs : infill_ei\n",
      "\n",
      "Wed Sep 03 01:22:00 2025 AUC 0.93064419896342\n",
      "\n",
      "[mbo] 25: num_leaves=602; max_depth=7; min_data_in_leaf=312; feature_fraction=0.495; bagging_fraction=0.737; learning_rate=0.0127 : y = 0.931 : 64.7 secs : infill_ei\n",
      "\n",
      "Wed Sep 03 01:23:03 2025 AUC 0.929589864184447\n",
      "\n",
      "[mbo] 26: num_leaves=1465; max_depth=7; min_data_in_leaf=203; feature_fraction=0.325; bagging_fraction=0.577; learning_rate=0.0224 : y = 0.93 : 61.8 secs : infill_ei\n",
      "\n",
      "Wed Sep 03 01:23:40 2025 AUC 0.929444216789172\n",
      "\n",
      "[mbo] 27: num_leaves=583; max_depth=6; min_data_in_leaf=204; feature_fraction=0.752; bagging_fraction=0.74; learning_rate=0.0452 : y = 0.929 : 35.6 secs : infill_ei\n",
      "\n",
      "Wed Sep 03 01:24:47 2025 AUC 0.929580669778455\n",
      "\n",
      "[mbo] 28: num_leaves=501; max_depth=8; min_data_in_leaf=202; feature_fraction=0.356; bagging_fraction=0.912; learning_rate=0.0154 : y = 0.93 : 66.3 secs : infill_ei\n",
      "\n",
      "Wed Sep 03 01:25:45 2025 AUC 0.928940652832866\n",
      "\n",
      "[mbo] 29: num_leaves=628; max_depth=5; min_data_in_leaf=208; feature_fraction=0.511; bagging_fraction=0.51; learning_rate=0.0766 : y = 0.929 : 56.9 secs : infill_ei\n",
      "\n",
      "Wed Sep 03 01:26:47 2025 AUC 0.930161792388969\n",
      "\n",
      "[mbo] 30: num_leaves=335; max_depth=7; min_data_in_leaf=212; feature_fraction=0.557; bagging_fraction=0.713; learning_rate=0.012 : y = 0.93 : 61.9 secs : infill_ei\n",
      "\n",
      "Wed Sep 03 01:27:51 2025 AUC 0.93036453945653\n",
      "\n",
      "[mbo] 31: num_leaves=581; max_depth=7; min_data_in_leaf=910; feature_fraction=0.499; bagging_fraction=0.827; learning_rate=0.0162 : y = 0.93 : 63.2 secs : infill_ei\n",
      "\n",
      "Wed Sep 03 01:28:48 2025 AUC 0.93030313251369\n",
      "\n",
      "[mbo] 32: num_leaves=696; max_depth=8; min_data_in_leaf=201; feature_fraction=0.635; bagging_fraction=0.715; learning_rate=0.00547 : y = 0.93 : 55.9 secs : infill_ei\n",
      "\n",
      "Wed Sep 03 01:29:57 2025 AUC 0.928980612661559\n",
      "\n",
      "[mbo] 33: num_leaves=1679; max_depth=8; min_data_in_leaf=266; feature_fraction=0.392; bagging_fraction=0.639; learning_rate=0.028 : y = 0.929 : 67.9 secs : infill_ei\n",
      "\n",
      "Saved the current state after iteration 34 in the file bayesiana.RDATA.\n",
      "\n",
      "Wed Sep 03 01:30:56 2025 AUC 0.929265738119134\n",
      "\n",
      "[mbo] 34: num_leaves=1606; max_depth=7; min_data_in_leaf=200; feature_fraction=0.604; bagging_fraction=0.453; learning_rate=0.0097 : y = 0.929 : 53.0 secs : infill_ei\n",
      "\n",
      "Wed Sep 03 01:31:37 2025 AUC 0.930009483251307\n",
      "\n",
      "[mbo] 35: num_leaves=1935; max_depth=6; min_data_in_leaf=200; feature_fraction=0.645; bagging_fraction=0.594; learning_rate=0.016 : y = 0.93 : 40.0 secs : infill_ei\n",
      "\n",
      "Wed Sep 03 01:32:42 2025 AUC 0.931267403836465\n",
      "\n",
      "[mbo] 36: num_leaves=1845; max_depth=7; min_data_in_leaf=464; feature_fraction=0.449; bagging_fraction=0.66; learning_rate=0.0141 : y = 0.931 : 64.5 secs : infill_ei\n",
      "\n",
      "Wed Sep 03 01:34:01 2025 AUC 0.930319421493342\n",
      "\n",
      "[mbo] 37: num_leaves=1904; max_depth=11; min_data_in_leaf=653; feature_fraction=0.493; bagging_fraction=0.912; learning_rate=0.0137 : y = 0.93 : 78.1 secs : infill_ei\n",
      "\n",
      "Wed Sep 03 01:34:45 2025 AUC 0.928712350391396\n",
      "\n",
      "[mbo] 38: num_leaves=1833; max_depth=7; min_data_in_leaf=417; feature_fraction=0.95; bagging_fraction=0.879; learning_rate=0.0152 : y = 0.929 : 43.1 secs : infill_ei\n",
      "\n",
      "Wed Sep 03 01:35:13 2025 AUC 0.928225489664193\n",
      "\n",
      "[mbo] 39: num_leaves=550; max_depth=4; min_data_in_leaf=201; feature_fraction=0.951; bagging_fraction=0.778; learning_rate=0.00808 : y = 0.928 : 27.2 secs : infill_ei\n",
      "\n",
      "Wed Sep 03 01:36:25 2025 AUC 0.930530294445449\n",
      "\n",
      "[mbo] 40: num_leaves=1848; max_depth=7; min_data_in_leaf=232; feature_fraction=0.328; bagging_fraction=0.731; learning_rate=0.00533 : y = 0.931 : 70.3 secs : infill_ei\n",
      "\n",
      "Wed Sep 03 01:37:55 2025 AUC 0.930488364971282\n",
      "\n",
      "[mbo] 41: num_leaves=1893; max_depth=10; min_data_in_leaf=460; feature_fraction=0.418; bagging_fraction=0.689; learning_rate=0.0114 : y = 0.93 : 89.3 secs : infill_ei\n",
      "\n",
      "Wed Sep 03 01:39:06 2025 AUC 0.929189617945095\n",
      "\n",
      "[mbo] 42: num_leaves=1556; max_depth=8; min_data_in_leaf=207; feature_fraction=0.358; bagging_fraction=0.698; learning_rate=0.0372 : y = 0.929 : 70.3 secs : infill_ei\n",
      "\n",
      "Wed Sep 03 01:39:59 2025 AUC 0.93006844046707\n",
      "\n",
      "[mbo] 43: num_leaves=1590; max_depth=6; min_data_in_leaf=684; feature_fraction=0.2; bagging_fraction=0.534; learning_rate=0.0328 : y = 0.93 : 52.0 secs : infill_ei\n",
      "\n",
      "Wed Sep 03 01:40:57 2025 AUC 0.928917795576007\n",
      "\n",
      "[mbo] 44: num_leaves=1810; max_depth=6; min_data_in_leaf=216; feature_fraction=0.236; bagging_fraction=0.354; learning_rate=0.0256 : y = 0.929 : 57.1 secs : infill_ei\n",
      "\n",
      "Saved the current state after iteration 45 in the file bayesiana.RDATA.\n",
      "\n",
      "Wed Sep 03 01:42:02 2025 AUC 0.929537481372698\n",
      "\n",
      "[mbo] 45: num_leaves=1847; max_depth=5; min_data_in_leaf=785; feature_fraction=0.505; bagging_fraction=0.668; learning_rate=0.0107 : y = 0.93 : 59.4 secs : infill_ei\n",
      "\n",
      "Wed Sep 03 01:43:14 2025 AUC 0.929967898665106\n",
      "\n",
      "[mbo] 46: num_leaves=1860; max_depth=8; min_data_in_leaf=208; feature_fraction=0.311; bagging_fraction=0.592; learning_rate=0.0123 : y = 0.93 : 71.7 secs : infill_ei\n",
      "\n",
      "Wed Sep 03 01:44:19 2025 AUC 0.930065783878795\n",
      "\n",
      "[mbo] 47: num_leaves=1660; max_depth=7; min_data_in_leaf=512; feature_fraction=0.424; bagging_fraction=0.736; learning_rate=0.0147 : y = 0.93 : 63.7 secs : infill_ei\n",
      "\n",
      "Wed Sep 03 01:45:19 2025 AUC 0.929816017714144\n",
      "\n",
      "[mbo] 48: num_leaves=1366; max_depth=7; min_data_in_leaf=235; feature_fraction=0.28; bagging_fraction=0.585; learning_rate=0.0343 : y = 0.93 : 58.9 secs : infill_ei\n",
      "\n",
      "Wed Sep 03 01:46:19 2025 AUC 0.93057695652955\n",
      "\n",
      "[mbo] 49: num_leaves=1636; max_depth=6; min_data_in_leaf=420; feature_fraction=0.416; bagging_fraction=0.473; learning_rate=0.0124 : y = 0.931 : 59.3 secs : infill_ei\n",
      "\n",
      "Wed Sep 03 01:47:40 2025 AUC 0.929480352803869\n",
      "\n",
      "[mbo] 50: num_leaves=1144; max_depth=9; min_data_in_leaf=200; feature_fraction=0.541; bagging_fraction=0.664; learning_rate=0.0141 : y = 0.929 : 80.0 secs : infill_ei\n",
      "\n",
      "Wed Sep 03 01:48:56 2025 AUC 0.929694615756613\n",
      "\n",
      "[mbo] 51: num_leaves=255; max_depth=9; min_data_in_leaf=218; feature_fraction=0.466; bagging_fraction=0.522; learning_rate=0.0167 : y = 0.93 : 75.3 secs : infill_ei\n",
      "\n",
      "Wed Sep 03 01:49:56 2025 AUC 0.929656001829715\n",
      "\n",
      "[mbo] 52: num_leaves=524; max_depth=8; min_data_in_leaf=206; feature_fraction=0.593; bagging_fraction=0.905; learning_rate=0.0158 : y = 0.93 : 59.1 secs : infill_ei\n",
      "\n",
      "Wed Sep 03 01:50:52 2025 AUC 0.930216703706124\n",
      "\n",
      "[mbo] 53: num_leaves=1557; max_depth=6; min_data_in_leaf=200; feature_fraction=0.281; bagging_fraction=0.346; learning_rate=0.0314 : y = 0.93 : 55.0 secs : infill_ei\n",
      "\n",
      "Wed Sep 03 01:52:05 2025 AUC 0.930516317946222\n",
      "\n",
      "[mbo] 54: num_leaves=1811; max_depth=8; min_data_in_leaf=215; feature_fraction=0.449; bagging_fraction=0.888; learning_rate=0.0103 : y = 0.931 : 71.3 secs : infill_ei\n",
      "\n",
      "Saved the current state after iteration 55 in the file bayesiana.RDATA.\n",
      "\n",
      "Wed Sep 03 01:53:25 2025 AUC 0.930113602213834\n",
      "\n",
      "[mbo] 55: num_leaves=2020; max_depth=9; min_data_in_leaf=369; feature_fraction=0.462; bagging_fraction=0.59; learning_rate=0.0174 : y = 0.93 : 73.8 secs : infill_ei\n",
      "\n",
      "Wed Sep 03 01:54:36 2025 AUC 0.929803295770795\n",
      "\n",
      "[mbo] 56: num_leaves=1495; max_depth=9; min_data_in_leaf=496; feature_fraction=0.428; bagging_fraction=0.591; learning_rate=0.0403 : y = 0.93 : 69.2 secs : infill_ei\n",
      "\n",
      "Wed Sep 03 01:55:50 2025 AUC 0.92982673689303\n",
      "\n",
      "[mbo] 57: num_leaves=791; max_depth=8; min_data_in_leaf=211; feature_fraction=0.492; bagging_fraction=0.832; learning_rate=0.0132 : y = 0.93 : 73.2 secs : infill_ei\n",
      "\n",
      "Wed Sep 03 01:56:55 2025 AUC 0.929885481492088\n",
      "\n",
      "[mbo] 58: num_leaves=1811; max_depth=7; min_data_in_leaf=516; feature_fraction=0.432; bagging_fraction=0.525; learning_rate=0.0239 : y = 0.93 : 64.4 secs : infill_ei\n",
      "\n",
      "Wed Sep 03 01:58:10 2025 AUC 0.929508394668579\n",
      "\n",
      "[mbo] 59: num_leaves=1932; max_depth=10; min_data_in_leaf=669; feature_fraction=0.498; bagging_fraction=0.76; learning_rate=0.0347 : y = 0.93 : 74.1 secs : infill_ei\n",
      "\n",
      "Wed Sep 03 01:59:10 2025 AUC 0.930348508618846\n",
      "\n",
      "[mbo] 60: num_leaves=332; max_depth=8; min_data_in_leaf=439; feature_fraction=0.227; bagging_fraction=0.763; learning_rate=0.0105 : y = 0.93 : 58.6 secs : infill_ei\n",
      "\n",
      "Saved the final state in the file bayesiana.RDATA\n",
      "\n"
     ]
    }
   ],
   "source": [
    "# inicio la optimizacion bayesiana, retomando si ya existe\n",
    "# es la celda mas lenta de todo el notebook\n",
    "\n",
    "if (!file.exists(kbayesiana)) {\n",
    "  bayesiana_salida <- mbo(obj.fun, learner= surr.km, control= ctrl)\n",
    "} else {\n",
    "  bayesiana_salida <- mboContinue(kbayesiana) # retomo en caso que ya exista\n",
    "}"
   ]
  },
  {
   "cell_type": "code",
   "execution_count": 20,
   "metadata": {
    "id": "ssk5nnMk6INK"
   },
   "outputs": [
    {
     "data": {
      "text/html": [
       "<style>\n",
       ".list-inline {list-style: none; margin:0; padding: 0}\n",
       ".list-inline>li {display: inline-block}\n",
       ".list-inline>li:not(:last-child)::after {content: \"\\00b7\"; padding: 0 .5ex}\n",
       "</style>\n",
       "<ol class=list-inline><li>'num_leaves'</li><li>'max_depth'</li><li>'min_data_in_leaf'</li><li>'feature_fraction'</li><li>'bagging_fraction'</li><li>'learning_rate'</li><li>'y'</li><li>'dob'</li><li>'eol'</li><li>'error.message'</li><li>'exec.time'</li><li>'ei'</li><li>'error.model'</li><li>'train.time'</li><li>'prop.type'</li><li>'propose.time'</li><li>'se'</li><li>'mean'</li></ol>\n"
      ],
      "text/latex": [
       "\\begin{enumerate*}\n",
       "\\item 'num\\_leaves'\n",
       "\\item 'max\\_depth'\n",
       "\\item 'min\\_data\\_in\\_leaf'\n",
       "\\item 'feature\\_fraction'\n",
       "\\item 'bagging\\_fraction'\n",
       "\\item 'learning\\_rate'\n",
       "\\item 'y'\n",
       "\\item 'dob'\n",
       "\\item 'eol'\n",
       "\\item 'error.message'\n",
       "\\item 'exec.time'\n",
       "\\item 'ei'\n",
       "\\item 'error.model'\n",
       "\\item 'train.time'\n",
       "\\item 'prop.type'\n",
       "\\item 'propose.time'\n",
       "\\item 'se'\n",
       "\\item 'mean'\n",
       "\\end{enumerate*}\n"
      ],
      "text/markdown": [
       "1. 'num_leaves'\n",
       "2. 'max_depth'\n",
       "3. 'min_data_in_leaf'\n",
       "4. 'feature_fraction'\n",
       "5. 'bagging_fraction'\n",
       "6. 'learning_rate'\n",
       "7. 'y'\n",
       "8. 'dob'\n",
       "9. 'eol'\n",
       "10. 'error.message'\n",
       "11. 'exec.time'\n",
       "12. 'ei'\n",
       "13. 'error.model'\n",
       "14. 'train.time'\n",
       "15. 'prop.type'\n",
       "16. 'propose.time'\n",
       "17. 'se'\n",
       "18. 'mean'\n",
       "\n",
       "\n"
      ],
      "text/plain": [
       " [1] \"num_leaves\"       \"max_depth\"        \"min_data_in_leaf\" \"feature_fraction\"\n",
       " [5] \"bagging_fraction\" \"learning_rate\"    \"y\"                \"dob\"             \n",
       " [9] \"eol\"              \"error.message\"    \"exec.time\"        \"ei\"              \n",
       "[13] \"error.model\"      \"train.time\"       \"prop.type\"        \"propose.time\"    \n",
       "[17] \"se\"               \"mean\"            "
      ]
     },
     "metadata": {},
     "output_type": "display_data"
    }
   ],
   "source": [
    "\n",
    "tb_bayesiana <- as.data.table(bayesiana_salida$opt.path)\n",
    "colnames( tb_bayesiana)"
   ]
  },
  {
   "cell_type": "code",
   "execution_count": 21,
   "metadata": {
    "id": "u4zq-vknhjGc"
   },
   "outputs": [],
   "source": [
    "# almaceno los resultados de la Bayesian Optimization\n",
    "# y capturo los mejores hiperparametros encontrados\n",
    "\n",
    "tb_bayesiana <- as.data.table(bayesiana_salida$opt.path)\n",
    "\n",
    "tb_bayesiana[, iter := .I]\n",
    "\n",
    "# ordeno en forma descendente por AUC = y\n",
    "setorder(tb_bayesiana, -y)\n",
    "\n",
    "# grabo para eventualmente poder utilizarlos en OTRA corrida\n",
    "fwrite( tb_bayesiana,\n",
    "  file= \"BO_log.txt\",\n",
    "  sep= \"\\t\"\n",
    ")\n",
    "\n",
    "# los mejores hiperparámetros son los que quedaron en el registro 1 de la tabla\n",
    "PARAM$out$lgbm$mejores_hiperparametros <- tb_bayesiana[\n",
    "  1, # el primero es el de mejor AUC\n",
    "  setdiff(colnames(tb_bayesiana),\n",
    "    c(\"y\",\"dob\",\"eol\",\"error.message\",\"exec.time\",\"ei\",\"error.model\",\n",
    "      \"train.time\",\"prop.type\",\"propose.time\",\"se\",\"mean\",\"iter\")),\n",
    "  with= FALSE\n",
    "]\n",
    "\n",
    "\n",
    "PARAM$out$lgbm$y <- tb_bayesiana[1, y]\n"
   ]
  },
  {
   "cell_type": "code",
   "execution_count": 22,
   "metadata": {
    "id": "E8v2eA427N8e"
   },
   "outputs": [],
   "source": [
    "write_yaml( PARAM, file=\"PARAM.yml\")"
   ]
  },
  {
   "cell_type": "code",
   "execution_count": 23,
   "metadata": {
    "id": "iBTWexVU7PGC"
   },
   "outputs": [
    {
     "name": "stdout",
     "output_type": "stream",
     "text": [
      "   num_leaves max_depth min_data_in_leaf feature_fraction bagging_fraction\n",
      "        <int>     <int>            <int>            <num>            <num>\n",
      "1:       1845         7              464        0.4490489        0.6604047\n",
      "   learning_rate\n",
      "           <num>\n",
      "1:    0.01407905\n",
      "[1] 0.9312674\n"
     ]
    }
   ],
   "source": [
    "print(PARAM$out$lgbm$mejores_hiperparametros)\n",
    "print(PARAM$out$lgbm$y)"
   ]
  },
  {
   "cell_type": "markdown",
   "metadata": {
    "id": "TKsVZmAnhwX-"
   },
   "source": [
    "## 2.3  Produccion"
   ]
  },
  {
   "cell_type": "markdown",
   "metadata": {
    "id": "RQ_C33Tr5B_9"
   },
   "source": [
    "### Final Training\n",
    "Construyo el modelo final, que es uno solo, no hace ningun tipo de particion < training, validation, testing>]"
   ]
  },
  {
   "cell_type": "code",
   "execution_count": 24,
   "metadata": {
    "id": "eDqfyA14hzwv"
   },
   "outputs": [],
   "source": [
    "setwd(\"/content/buckets/b1/exp\")\n",
    "experimento <- paste0(\"exp\", PARAM$experimento)\n",
    "dir.create(experimento, showWarnings= FALSE)\n",
    "setwd( paste0(\"/content/buckets/b1/exp/\", experimento ))"
   ]
  },
  {
   "cell_type": "markdown",
   "metadata": {
    "id": "8qFmFivf5Iet"
   },
   "source": [
    "#### Final Training Dataset\n",
    "\n",
    "Aqui esta la gran decision de en qué meses hago el Final Training\n",
    "<br> debo utilizar los mejores hiperparámetros que encontré en la optimización bayesiana"
   ]
  },
  {
   "cell_type": "code",
   "execution_count": 25,
   "metadata": {
    "id": "lg5WVZncvc7H"
   },
   "outputs": [],
   "source": [
    "# clase01\n",
    "dataset[, clase01 := ifelse(clase_ternaria %in% c(\"BAJA+1\", \"BAJA+2\"), 1L, 0L)]"
   ]
  },
  {
   "cell_type": "code",
   "execution_count": 26,
   "metadata": {
    "id": "yc9QzXREv0xf"
   },
   "outputs": [],
   "source": [
    "dataset_train <- dataset[foto_mes %in% c(202107)]"
   ]
  },
  {
   "cell_type": "code",
   "execution_count": 27,
   "metadata": {
    "id": "thjdqEBLuvNt"
   },
   "outputs": [],
   "source": [
    "# dejo los datos en el formato que necesita LightGBM\n",
    "\n",
    "dtrain <- lgb.Dataset(\n",
    "  data= data.matrix(dataset_train[, campos_buenos, with= FALSE]),\n",
    "  label= dataset_train[, clase01]\n",
    ")"
   ]
  },
  {
   "cell_type": "markdown",
   "metadata": {
    "id": "VNUa-WSz5Oqu"
   },
   "source": [
    "#### Final Training Hyperparameters"
   ]
  },
  {
   "cell_type": "code",
   "execution_count": 28,
   "metadata": {
    "id": "FgCcvBfEwImu"
   },
   "outputs": [
    {
     "data": {
      "text/html": [
       "<dl>\n",
       "\t<dt>$boosting</dt>\n",
       "\t\t<dd>'gbdt'</dd>\n",
       "\t<dt>$objective</dt>\n",
       "\t\t<dd>'binary'</dd>\n",
       "\t<dt>$metric</dt>\n",
       "\t\t<dd>'auc'</dd>\n",
       "\t<dt>$first_metric_only</dt>\n",
       "\t\t<dd>FALSE</dd>\n",
       "\t<dt>$boost_from_average</dt>\n",
       "\t\t<dd>TRUE</dd>\n",
       "\t<dt>$feature_pre_filter</dt>\n",
       "\t\t<dd>FALSE</dd>\n",
       "\t<dt>$force_row_wise</dt>\n",
       "\t\t<dd>TRUE</dd>\n",
       "\t<dt>$verbosity</dt>\n",
       "\t\t<dd>-100</dd>\n",
       "\t<dt>$seed</dt>\n",
       "\t\t<dd>600019</dd>\n",
       "\t<dt>$max_depth</dt>\n",
       "\t\t<dd>7</dd>\n",
       "\t<dt>$min_gain_to_split</dt>\n",
       "\t\t<dd>0</dd>\n",
       "\t<dt>$min_sum_hessian_in_leaf</dt>\n",
       "\t\t<dd>0.001</dd>\n",
       "\t<dt>$lambda_l1</dt>\n",
       "\t\t<dd>0</dd>\n",
       "\t<dt>$lambda_l2</dt>\n",
       "\t\t<dd>0</dd>\n",
       "\t<dt>$max_bin</dt>\n",
       "\t\t<dd>31</dd>\n",
       "\t<dt>$bagging_fraction</dt>\n",
       "\t\t<dd>0.660404739900572</dd>\n",
       "\t<dt>$pos_bagging_fraction</dt>\n",
       "\t\t<dd>1</dd>\n",
       "\t<dt>$neg_bagging_fraction</dt>\n",
       "\t\t<dd>1</dd>\n",
       "\t<dt>$is_unbalance</dt>\n",
       "\t\t<dd>FALSE</dd>\n",
       "\t<dt>$scale_pos_weight</dt>\n",
       "\t\t<dd>1</dd>\n",
       "\t<dt>$drop_rate</dt>\n",
       "\t\t<dd>0.1</dd>\n",
       "\t<dt>$max_drop</dt>\n",
       "\t\t<dd>50</dd>\n",
       "\t<dt>$skip_drop</dt>\n",
       "\t\t<dd>0.5</dd>\n",
       "\t<dt>$extra_trees</dt>\n",
       "\t\t<dd>FALSE</dd>\n",
       "\t<dt>$num_iterations</dt>\n",
       "\t\t<dd>1200</dd>\n",
       "\t<dt>$learning_rate</dt>\n",
       "\t\t<dd>0.0140790498710074</dd>\n",
       "\t<dt>$feature_fraction</dt>\n",
       "\t\t<dd>0.449048857092371</dd>\n",
       "\t<dt>$num_leaves</dt>\n",
       "\t\t<dd>1845</dd>\n",
       "\t<dt>$min_data_in_leaf</dt>\n",
       "\t\t<dd>464</dd>\n",
       "</dl>\n"
      ],
      "text/latex": [
       "\\begin{description}\n",
       "\\item[\\$boosting] 'gbdt'\n",
       "\\item[\\$objective] 'binary'\n",
       "\\item[\\$metric] 'auc'\n",
       "\\item[\\$first\\_metric\\_only] FALSE\n",
       "\\item[\\$boost\\_from\\_average] TRUE\n",
       "\\item[\\$feature\\_pre\\_filter] FALSE\n",
       "\\item[\\$force\\_row\\_wise] TRUE\n",
       "\\item[\\$verbosity] -100\n",
       "\\item[\\$seed] 600019\n",
       "\\item[\\$max\\_depth] 7\n",
       "\\item[\\$min\\_gain\\_to\\_split] 0\n",
       "\\item[\\$min\\_sum\\_hessian\\_in\\_leaf] 0.001\n",
       "\\item[\\$lambda\\_l1] 0\n",
       "\\item[\\$lambda\\_l2] 0\n",
       "\\item[\\$max\\_bin] 31\n",
       "\\item[\\$bagging\\_fraction] 0.660404739900572\n",
       "\\item[\\$pos\\_bagging\\_fraction] 1\n",
       "\\item[\\$neg\\_bagging\\_fraction] 1\n",
       "\\item[\\$is\\_unbalance] FALSE\n",
       "\\item[\\$scale\\_pos\\_weight] 1\n",
       "\\item[\\$drop\\_rate] 0.1\n",
       "\\item[\\$max\\_drop] 50\n",
       "\\item[\\$skip\\_drop] 0.5\n",
       "\\item[\\$extra\\_trees] FALSE\n",
       "\\item[\\$num\\_iterations] 1200\n",
       "\\item[\\$learning\\_rate] 0.0140790498710074\n",
       "\\item[\\$feature\\_fraction] 0.449048857092371\n",
       "\\item[\\$num\\_leaves] 1845\n",
       "\\item[\\$min\\_data\\_in\\_leaf] 464\n",
       "\\end{description}\n"
      ],
      "text/markdown": [
       "$boosting\n",
       ":   'gbdt'\n",
       "$objective\n",
       ":   'binary'\n",
       "$metric\n",
       ":   'auc'\n",
       "$first_metric_only\n",
       ":   FALSE\n",
       "$boost_from_average\n",
       ":   TRUE\n",
       "$feature_pre_filter\n",
       ":   FALSE\n",
       "$force_row_wise\n",
       ":   TRUE\n",
       "$verbosity\n",
       ":   -100\n",
       "$seed\n",
       ":   600019\n",
       "$max_depth\n",
       ":   7\n",
       "$min_gain_to_split\n",
       ":   0\n",
       "$min_sum_hessian_in_leaf\n",
       ":   0.001\n",
       "$lambda_l1\n",
       ":   0\n",
       "$lambda_l2\n",
       ":   0\n",
       "$max_bin\n",
       ":   31\n",
       "$bagging_fraction\n",
       ":   0.660404739900572\n",
       "$pos_bagging_fraction\n",
       ":   1\n",
       "$neg_bagging_fraction\n",
       ":   1\n",
       "$is_unbalance\n",
       ":   FALSE\n",
       "$scale_pos_weight\n",
       ":   1\n",
       "$drop_rate\n",
       ":   0.1\n",
       "$max_drop\n",
       ":   50\n",
       "$skip_drop\n",
       ":   0.5\n",
       "$extra_trees\n",
       ":   FALSE\n",
       "$num_iterations\n",
       ":   1200\n",
       "$learning_rate\n",
       ":   0.0140790498710074\n",
       "$feature_fraction\n",
       ":   0.449048857092371\n",
       "$num_leaves\n",
       ":   1845\n",
       "$min_data_in_leaf\n",
       ":   464\n",
       "\n",
       "\n"
      ],
      "text/plain": [
       "$boosting\n",
       "[1] \"gbdt\"\n",
       "\n",
       "$objective\n",
       "[1] \"binary\"\n",
       "\n",
       "$metric\n",
       "[1] \"auc\"\n",
       "\n",
       "$first_metric_only\n",
       "[1] FALSE\n",
       "\n",
       "$boost_from_average\n",
       "[1] TRUE\n",
       "\n",
       "$feature_pre_filter\n",
       "[1] FALSE\n",
       "\n",
       "$force_row_wise\n",
       "[1] TRUE\n",
       "\n",
       "$verbosity\n",
       "[1] -100\n",
       "\n",
       "$seed\n",
       "[1] 600019\n",
       "\n",
       "$max_depth\n",
       "[1] 7\n",
       "\n",
       "$min_gain_to_split\n",
       "[1] 0\n",
       "\n",
       "$min_sum_hessian_in_leaf\n",
       "[1] 0.001\n",
       "\n",
       "$lambda_l1\n",
       "[1] 0\n",
       "\n",
       "$lambda_l2\n",
       "[1] 0\n",
       "\n",
       "$max_bin\n",
       "[1] 31\n",
       "\n",
       "$bagging_fraction\n",
       "[1] 0.6604047\n",
       "\n",
       "$pos_bagging_fraction\n",
       "[1] 1\n",
       "\n",
       "$neg_bagging_fraction\n",
       "[1] 1\n",
       "\n",
       "$is_unbalance\n",
       "[1] FALSE\n",
       "\n",
       "$scale_pos_weight\n",
       "[1] 1\n",
       "\n",
       "$drop_rate\n",
       "[1] 0.1\n",
       "\n",
       "$max_drop\n",
       "[1] 50\n",
       "\n",
       "$skip_drop\n",
       "[1] 0.5\n",
       "\n",
       "$extra_trees\n",
       "[1] FALSE\n",
       "\n",
       "$num_iterations\n",
       "[1] 1200\n",
       "\n",
       "$learning_rate\n",
       "[1] 0.01407905\n",
       "\n",
       "$feature_fraction\n",
       "[1] 0.4490489\n",
       "\n",
       "$num_leaves\n",
       "[1] 1845\n",
       "\n",
       "$min_data_in_leaf\n",
       "[1] 464\n"
      ]
     },
     "metadata": {},
     "output_type": "display_data"
    }
   ],
   "source": [
    "param_final <- modifyList(PARAM$lgbm$param_fijos,\n",
    "  PARAM$out$lgbm$mejores_hiperparametros)\n",
    "\n",
    "param_final"
   ]
  },
  {
   "cell_type": "markdown",
   "metadata": {
    "id": "TZIYn4l95TBH"
   },
   "source": [
    "#### Training\n",
    "Genero el modelo final, siempre sobre TODOS los datos de  final_train, sin hacer ningun tipo de undersampling de la clase mayoritaria"
   ]
  },
  {
   "cell_type": "code",
   "execution_count": 29,
   "metadata": {
    "id": "vPLsd4mMRe4u"
   },
   "outputs": [],
   "source": [
    "# este punto es muy SUTIL  y será revisado en la Clase 05\n",
    "\n",
    "param_normalizado <- copy(param_final)\n",
    "param_normalizado$min_data_in_leaf <-  round(param_final$min_data_in_leaf / PARAM$trainingstrategy$undersampling)"
   ]
  },
  {
   "cell_type": "code",
   "execution_count": 30,
   "metadata": {
    "id": "WRI_-taRwOXO"
   },
   "outputs": [],
   "source": [
    "  # entreno LightGBM\n",
    "\n",
    "  modelo_final <- lgb.train(\n",
    "    data= dtrain,\n",
    "    param= param_normalizado\n",
    "  )"
   ]
  },
  {
   "cell_type": "code",
   "execution_count": 31,
   "metadata": {
    "id": "_bkhnCvj0g3Q"
   },
   "outputs": [],
   "source": [
    "# ahora imprimo la importancia de variables\n",
    "\n",
    "tb_importancia <- as.data.table(lgb.importance(modelo_final))\n",
    "archivo_importancia <- \"impo.txt\"\n",
    "\n",
    "fwrite(tb_importancia,\n",
    "  file= archivo_importancia,\n",
    "  sep= \"\\t\"\n",
    ")"
   ]
  },
  {
   "cell_type": "code",
   "execution_count": 32,
   "metadata": {
    "id": "lZ3sLmbh0kFj"
   },
   "outputs": [],
   "source": [
    "# grabo a disco el modelo en un formato para seres humanos ... ponele ...\n",
    "\n",
    "lgb.save(modelo_final, \"modelo.txt\" )"
   ]
  },
  {
   "cell_type": "markdown",
   "metadata": {
    "id": "VEtp2--t5Ymg"
   },
   "source": [
    "### Scoring"
   ]
  },
  {
   "cell_type": "markdown",
   "metadata": {
    "id": "hI5008Mj5ZdI"
   },
   "source": [
    "Aplico el modelo final a los datos del futuro"
   ]
  },
  {
   "cell_type": "code",
   "execution_count": 33,
   "metadata": {
    "id": "PimBY3N_0ryP"
   },
   "outputs": [],
   "source": [
    "# aplico el modelo a los datos sin clase\n",
    "dfuture <- dataset[foto_mes == 202109]\n",
    "\n",
    "# aplico el modelo a los datos nuevos\n",
    "prediccion <- predict(\n",
    "  modelo_final,\n",
    "  data.matrix(dfuture[, campos_buenos, with= FALSE])\n",
    ")"
   ]
  },
  {
   "cell_type": "markdown",
   "metadata": {
    "id": "D26rNRh55gpw"
   },
   "source": [
    "#### Tabla Prediccion"
   ]
  },
  {
   "cell_type": "code",
   "execution_count": 34,
   "metadata": {
    "id": "RJwg7LHd11yu"
   },
   "outputs": [],
   "source": [
    "# tabla de prediccion\n",
    "\n",
    "tb_prediccion <- dfuture[, list(numero_de_cliente)]\n",
    "tb_prediccion[, prob := prediccion ]\n",
    "\n",
    "# grabo las probabilidad del modelo\n",
    "fwrite(tb_prediccion,\n",
    "  file= \"prediccion.txt\",\n",
    "  sep= \"\\t\"\n",
    ")"
   ]
  },
  {
   "cell_type": "markdown",
   "metadata": {
    "id": "jOt4eG_55ltv"
   },
   "source": [
    "Kaggle Competition Submit"
   ]
  },
  {
   "cell_type": "code",
   "execution_count": 35,
   "metadata": {
    "id": "gWW3tatE12je"
   },
   "outputs": [
    {
     "name": "stderr",
     "output_type": "stream",
     "text": [
      "Warning message in system(linea, intern = TRUE):\n",
      "“running command 'kaggle competitions submit -c data-mining-analista-sr-2025-b -f ./kaggle/KA5005_10000.csv -m 'envios=10000  semilla=600019'' had status 1”\n"
     ]
    },
    {
     "name": "stdout",
     "output_type": "stream",
     "text": [
      "401 Client Error: Unauthorized for url: https://www.kaggle.com/api/v1/competitions/submission-url \n"
     ]
    },
    {
     "name": "stderr",
     "output_type": "stream",
     "text": [
      "Warning message in system(linea, intern = TRUE):\n",
      "“running command 'kaggle competitions submit -c data-mining-analista-sr-2025-b -f ./kaggle/KA5005_10500.csv -m 'envios=10500  semilla=600019'' had status 1”\n"
     ]
    },
    {
     "name": "stdout",
     "output_type": "stream",
     "text": [
      "401 Client Error: Unauthorized for url: https://www.kaggle.com/api/v1/competitions/submission-url \n"
     ]
    },
    {
     "name": "stderr",
     "output_type": "stream",
     "text": [
      "Warning message in system(linea, intern = TRUE):\n",
      "“running command 'kaggle competitions submit -c data-mining-analista-sr-2025-b -f ./kaggle/KA5005_11000.csv -m 'envios=11000  semilla=600019'' had status 1”\n"
     ]
    },
    {
     "name": "stdout",
     "output_type": "stream",
     "text": [
      "401 Client Error: Unauthorized for url: https://www.kaggle.com/api/v1/competitions/submission-url \n"
     ]
    },
    {
     "name": "stderr",
     "output_type": "stream",
     "text": [
      "Warning message in system(linea, intern = TRUE):\n",
      "“running command 'kaggle competitions submit -c data-mining-analista-sr-2025-b -f ./kaggle/KA5005_11500.csv -m 'envios=11500  semilla=600019'' had status 1”\n"
     ]
    },
    {
     "name": "stdout",
     "output_type": "stream",
     "text": [
      "401 Client Error: Unauthorized for url: https://www.kaggle.com/api/v1/competitions/submission-url \n"
     ]
    },
    {
     "name": "stderr",
     "output_type": "stream",
     "text": [
      "Warning message in system(linea, intern = TRUE):\n",
      "“running command 'kaggle competitions submit -c data-mining-analista-sr-2025-b -f ./kaggle/KA5005_12000.csv -m 'envios=12000  semilla=600019'' had status 1”\n"
     ]
    },
    {
     "name": "stdout",
     "output_type": "stream",
     "text": [
      "401 Client Error: Unauthorized for url: https://www.kaggle.com/api/v1/competitions/submission-url \n"
     ]
    }
   ],
   "source": [
    "# genero archivos con los  \"envios\" mejores\n",
    "# suba TODOS los archivos a Kaggle\n",
    "\n",
    "# ordeno por probabilidad descendente\n",
    "setorder(tb_prediccion, -prob)\n",
    "\n",
    "dir.create(\"kaggle\")\n",
    "\n",
    "for (envios in PARAM$kaggle$cortes) {\n",
    "\n",
    "  tb_prediccion[, Predicted := 0L] # seteo inicial a 0\n",
    "  tb_prediccion[1:envios, Predicted := 1L] # marclo los primeros\n",
    "\n",
    "  archivo_kaggle <- paste0(\"./kaggle/KA\", PARAM$experimento, \"_\", envios, \".csv\")\n",
    "\n",
    "  # grabo el archivo\n",
    "  fwrite(tb_prediccion[, list(numero_de_cliente, Predicted)],\n",
    "    file= archivo_kaggle,\n",
    "    sep= \",\"\n",
    "  )\n",
    "\n",
    "  # subida a Kaggle, armo la linea de comando\n",
    "  comando <- \"kaggle competitions submit\"\n",
    "  competencia <- paste(\"-c\", PARAM$kaggle$competencia)\n",
    "  arch <- paste( \"-f\", archivo_kaggle)\n",
    "\n",
    "  mensaje <- paste0(\"-m 'envios=\", envios,\n",
    "  \"  semilla=\", PARAM$semilla_primigenia,\n",
    "    \"'\" )\n",
    "\n",
    "  linea <- paste( comando, competencia, arch, mensaje)\n",
    "\n",
    "  salida <- system(linea, intern=TRUE) # el submit a Kaggle\n",
    "  cat(salida, \"\\n\")\n",
    "}"
   ]
  },
  {
   "cell_type": "code",
   "execution_count": 36,
   "metadata": {
    "id": "B9tB2X4439Hg"
   },
   "outputs": [],
   "source": [
    "write_yaml( PARAM, file=\"PARAM.yml\")"
   ]
  },
  {
   "cell_type": "code",
   "execution_count": 37,
   "metadata": {
    "id": "9zA_W25c15DP"
   },
   "outputs": [
    {
     "data": {
      "text/html": [
       "'Wed Sep 03 02:00:19 2025'"
      ],
      "text/latex": [
       "'Wed Sep 03 02:00:19 2025'"
      ],
      "text/markdown": [
       "'Wed Sep 03 02:00:19 2025'"
      ],
      "text/plain": [
       "[1] \"Wed Sep 03 02:00:19 2025\""
      ]
     },
     "metadata": {},
     "output_type": "display_data"
    }
   ],
   "source": [
    "format(Sys.time(), \"%a %b %d %X %Y\")"
   ]
  },
  {
   "cell_type": "markdown",
   "metadata": {
    "id": "UdVZucdLHzZ0"
   },
   "source": [
    "Finalmente usted deberá cargar el resultado de su corrida en la Google Sheet Colaborativa,  hoja **TareaHogar04**\n",
    "<br> Siéntase libre de agregar las columnas que hagan falta a la planilla"
   ]
  }
 ],
 "metadata": {
  "colab": {
   "provenance": []
  },
  "kernelspec": {
   "display_name": "R",
   "language": "R",
   "name": "ir"
  },
  "language_info": {
   "codemirror_mode": "r",
   "file_extension": ".r",
   "mimetype": "text/x-r-source",
   "name": "R",
   "pygments_lexer": "r",
   "version": "4.4.3"
  }
 },
 "nbformat": 4,
 "nbformat_minor": 4
}
